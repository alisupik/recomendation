{
 "cells": [
  {
   "cell_type": "code",
   "execution_count": 1,
   "id": "52f9d7fa",
   "metadata": {},
   "outputs": [],
   "source": [
    "import pandas as pd\n",
    "import numpy as np\n",
    "from scipy import sparse\n",
    "\n",
    "from sklearn.preprocessing import normalize\n"
   ]
  },
  {
   "cell_type": "code",
   "execution_count": 2,
   "id": "5d28b9b7",
   "metadata": {},
   "outputs": [],
   "source": [
    "interactions_df = pd.read_csv(\"lastfm_user_scrobbles.csv\")\n",
    "titles_df=pd.read_csv(\"lastfm_artist_list.csv\")"
   ]
  },
  {
   "cell_type": "code",
   "execution_count": 3,
   "id": "99740541",
   "metadata": {},
   "outputs": [
    {
     "data": {
      "text/html": [
       "<div>\n",
       "<style scoped>\n",
       "    .dataframe tbody tr th:only-of-type {\n",
       "        vertical-align: middle;\n",
       "    }\n",
       "\n",
       "    .dataframe tbody tr th {\n",
       "        vertical-align: top;\n",
       "    }\n",
       "\n",
       "    .dataframe thead th {\n",
       "        text-align: right;\n",
       "    }\n",
       "</style>\n",
       "<table border=\"1\" class=\"dataframe\">\n",
       "  <thead>\n",
       "    <tr style=\"text-align: right;\">\n",
       "      <th></th>\n",
       "      <th>user_id</th>\n",
       "      <th>artist_id</th>\n",
       "      <th>scrobbles</th>\n",
       "    </tr>\n",
       "  </thead>\n",
       "  <tbody>\n",
       "    <tr>\n",
       "      <th>0</th>\n",
       "      <td>1</td>\n",
       "      <td>4562</td>\n",
       "      <td>13883</td>\n",
       "    </tr>\n",
       "    <tr>\n",
       "      <th>1</th>\n",
       "      <td>1</td>\n",
       "      <td>10191</td>\n",
       "      <td>11690</td>\n",
       "    </tr>\n",
       "    <tr>\n",
       "      <th>2</th>\n",
       "      <td>1</td>\n",
       "      <td>494</td>\n",
       "      <td>11351</td>\n",
       "    </tr>\n",
       "    <tr>\n",
       "      <th>3</th>\n",
       "      <td>1</td>\n",
       "      <td>6673</td>\n",
       "      <td>10300</td>\n",
       "    </tr>\n",
       "    <tr>\n",
       "      <th>4</th>\n",
       "      <td>1</td>\n",
       "      <td>8402</td>\n",
       "      <td>8983</td>\n",
       "    </tr>\n",
       "    <tr>\n",
       "      <th>...</th>\n",
       "      <td>...</td>\n",
       "      <td>...</td>\n",
       "      <td>...</td>\n",
       "    </tr>\n",
       "    <tr>\n",
       "      <th>92787</th>\n",
       "      <td>1892</td>\n",
       "      <td>10098</td>\n",
       "      <td>278</td>\n",
       "    </tr>\n",
       "    <tr>\n",
       "      <th>92788</th>\n",
       "      <td>1892</td>\n",
       "      <td>8660</td>\n",
       "      <td>263</td>\n",
       "    </tr>\n",
       "    <tr>\n",
       "      <th>92789</th>\n",
       "      <td>1892</td>\n",
       "      <td>3274</td>\n",
       "      <td>258</td>\n",
       "    </tr>\n",
       "    <tr>\n",
       "      <th>92790</th>\n",
       "      <td>1892</td>\n",
       "      <td>4240</td>\n",
       "      <td>232</td>\n",
       "    </tr>\n",
       "    <tr>\n",
       "      <th>92791</th>\n",
       "      <td>1892</td>\n",
       "      <td>10842</td>\n",
       "      <td>228</td>\n",
       "    </tr>\n",
       "  </tbody>\n",
       "</table>\n",
       "<p>92792 rows × 3 columns</p>\n",
       "</div>"
      ],
      "text/plain": [
       "       user_id  artist_id  scrobbles\n",
       "0            1       4562      13883\n",
       "1            1      10191      11690\n",
       "2            1        494      11351\n",
       "3            1       6673      10300\n",
       "4            1       8402       8983\n",
       "...        ...        ...        ...\n",
       "92787     1892      10098        278\n",
       "92788     1892       8660        263\n",
       "92789     1892       3274        258\n",
       "92790     1892       4240        232\n",
       "92791     1892      10842        228\n",
       "\n",
       "[92792 rows x 3 columns]"
      ]
     },
     "execution_count": 3,
     "metadata": {},
     "output_type": "execute_result"
    }
   ],
   "source": [
    "interactions_df"
   ]
  },
  {
   "cell_type": "code",
   "execution_count": 4,
   "id": "89ba1563",
   "metadata": {},
   "outputs": [
    {
     "data": {
      "text/html": [
       "<div>\n",
       "<style scoped>\n",
       "    .dataframe tbody tr th:only-of-type {\n",
       "        vertical-align: middle;\n",
       "    }\n",
       "\n",
       "    .dataframe tbody tr th {\n",
       "        vertical-align: top;\n",
       "    }\n",
       "\n",
       "    .dataframe thead th {\n",
       "        text-align: right;\n",
       "    }\n",
       "</style>\n",
       "<table border=\"1\" class=\"dataframe\">\n",
       "  <thead>\n",
       "    <tr style=\"text-align: right;\">\n",
       "      <th></th>\n",
       "      <th>artist_id</th>\n",
       "      <th>artist_name</th>\n",
       "    </tr>\n",
       "  </thead>\n",
       "  <tbody>\n",
       "    <tr>\n",
       "      <th>0</th>\n",
       "      <td>1</td>\n",
       "      <td>__Max__</td>\n",
       "    </tr>\n",
       "    <tr>\n",
       "      <th>1</th>\n",
       "      <td>2</td>\n",
       "      <td>_Algol_</td>\n",
       "    </tr>\n",
       "    <tr>\n",
       "      <th>2</th>\n",
       "      <td>3</td>\n",
       "      <td>-123 Min.</td>\n",
       "    </tr>\n",
       "    <tr>\n",
       "      <th>3</th>\n",
       "      <td>4</td>\n",
       "      <td>-Oz-</td>\n",
       "    </tr>\n",
       "    <tr>\n",
       "      <th>4</th>\n",
       "      <td>5</td>\n",
       "      <td>-T De Sangre</td>\n",
       "    </tr>\n",
       "    <tr>\n",
       "      <th>...</th>\n",
       "      <td>...</td>\n",
       "      <td>...</td>\n",
       "    </tr>\n",
       "    <tr>\n",
       "      <th>17488</th>\n",
       "      <td>17489</td>\n",
       "      <td>鷺巣詩郎</td>\n",
       "    </tr>\n",
       "    <tr>\n",
       "      <th>17489</th>\n",
       "      <td>17490</td>\n",
       "      <td>黃立行</td>\n",
       "    </tr>\n",
       "    <tr>\n",
       "      <th>17490</th>\n",
       "      <td>17491</td>\n",
       "      <td>黄义达</td>\n",
       "    </tr>\n",
       "    <tr>\n",
       "      <th>17491</th>\n",
       "      <td>17492</td>\n",
       "      <td>黒木メイサ</td>\n",
       "    </tr>\n",
       "    <tr>\n",
       "      <th>17492</th>\n",
       "      <td>17493</td>\n",
       "      <td>鼓童</td>\n",
       "    </tr>\n",
       "  </tbody>\n",
       "</table>\n",
       "<p>17493 rows × 2 columns</p>\n",
       "</div>"
      ],
      "text/plain": [
       "       artist_id   artist_name\n",
       "0              1       __Max__\n",
       "1              2       _Algol_\n",
       "2              3     -123 Min.\n",
       "3              4          -Oz-\n",
       "4              5  -T De Sangre\n",
       "...          ...           ...\n",
       "17488      17489          鷺巣詩郎\n",
       "17489      17490           黃立行\n",
       "17490      17491           黄义达\n",
       "17491      17492         黒木メイサ\n",
       "17492      17493            鼓童\n",
       "\n",
       "[17493 rows x 2 columns]"
      ]
     },
     "execution_count": 4,
     "metadata": {},
     "output_type": "execute_result"
    }
   ],
   "source": [
    "titles_df"
   ]
  },
  {
   "cell_type": "code",
   "execution_count": 5,
   "id": "1bb9972b",
   "metadata": {},
   "outputs": [
    {
     "data": {
      "text/plain": [
       "artist_id    49.044397\n",
       "scrobbles    49.044397\n",
       "dtype: float64"
      ]
     },
     "execution_count": 5,
     "metadata": {},
     "output_type": "execute_result"
    }
   ],
   "source": [
    "interactions_df.groupby('user_id').count().mean()"
   ]
  },
  {
   "cell_type": "code",
   "execution_count": 6,
   "id": "8d8ef46b",
   "metadata": {},
   "outputs": [],
   "source": [
    "titles_df.index = titles_df['artist_id']"
   ]
  },
  {
   "cell_type": "code",
   "execution_count": 22,
   "id": "f60f66c5",
   "metadata": {},
   "outputs": [],
   "source": [
    "titles_dict = titles_df['artist_name'].to_dict()"
   ]
  },
  {
   "cell_type": "code",
   "execution_count": 8,
   "id": "648eba88",
   "metadata": {},
   "outputs": [],
   "source": [
    "rows, r_pos = np.unique(interactions_df.values[:, 0], return_inverse=True)"
   ]
  },
  {
   "cell_type": "code",
   "execution_count": 9,
   "id": "c89032c8",
   "metadata": {},
   "outputs": [
    {
     "data": {
      "text/plain": [
       "array([   1,    2,    3, ..., 1890, 1891, 1892])"
      ]
     },
     "execution_count": 9,
     "metadata": {},
     "output_type": "execute_result"
    }
   ],
   "source": [
    "rows"
   ]
  },
  {
   "cell_type": "code",
   "execution_count": 10,
   "id": "60f9c03a",
   "metadata": {},
   "outputs": [
    {
     "data": {
      "text/plain": [
       "array([   0,    0,    0, ..., 1891, 1891, 1891])"
      ]
     },
     "execution_count": 10,
     "metadata": {},
     "output_type": "execute_result"
    }
   ],
   "source": [
    "r_pos"
   ]
  },
  {
   "cell_type": "code",
   "execution_count": 11,
   "id": "12399d5f",
   "metadata": {},
   "outputs": [],
   "source": [
    "cols, c_pos = np.unique(interactions_df.values[:, 1], return_inverse=True)"
   ]
  },
  {
   "cell_type": "code",
   "execution_count": 12,
   "id": "2c6f80e2",
   "metadata": {},
   "outputs": [
    {
     "data": {
      "text/plain": [
       "array([    1,     2,     3, ..., 17491, 17492, 17493])"
      ]
     },
     "execution_count": 12,
     "metadata": {},
     "output_type": "execute_result"
    }
   ],
   "source": [
    "cols"
   ]
  },
  {
   "cell_type": "code",
   "execution_count": 13,
   "id": "3eb7e79c",
   "metadata": {},
   "outputs": [
    {
     "data": {
      "text/plain": [
       "array([ 4561, 10190,   493, ...,  3273,  4239, 10841])"
      ]
     },
     "execution_count": 13,
     "metadata": {},
     "output_type": "execute_result"
    }
   ],
   "source": [
    "c_pos"
   ]
  },
  {
   "cell_type": "code",
   "execution_count": 14,
   "id": "761c7229",
   "metadata": {},
   "outputs": [],
   "source": [
    "interactions_sparse = sparse.csr_matrix((interactions_df.values[:, 2], (r_pos, c_pos)))"
   ]
  },
  {
   "cell_type": "code",
   "execution_count": 15,
   "id": "17119a06",
   "metadata": {},
   "outputs": [
    {
     "data": {
      "text/plain": [
       "<1892x17493 sparse matrix of type '<class 'numpy.int64'>'\n",
       "\twith 92723 stored elements in Compressed Sparse Row format>"
      ]
     },
     "execution_count": 15,
     "metadata": {},
     "output_type": "execute_result"
    }
   ],
   "source": [
    "interactions_sparse"
   ]
  },
  {
   "cell_type": "code",
   "execution_count": 16,
   "id": "e53fbcc7",
   "metadata": {},
   "outputs": [],
   "source": [
    "Pui = normalize(interactions_sparse, norm ='l2', axis = 1)\n",
    "sim = Pui.T*Pui\n",
    "##матрицца смежности графа"
   ]
  },
  {
   "cell_type": "code",
   "execution_count": 23,
   "id": "9f0ea22d",
   "metadata": {},
   "outputs": [
    {
     "data": {
      "text/plain": [
       "['The Doors',\n",
       " 'Pink Floyd',\n",
       " 'Joy Division',\n",
       " 'Depeche Mode',\n",
       " 'Marilyn Manson',\n",
       " 'Paramore',\n",
       " 'System Of A Down',\n",
       " 'Arctic Monkeys',\n",
       " 'Pearl Jam',\n",
       " 'Green Day',\n",
       " 'Foo Fighters',\n",
       " 'Muse',\n",
       " 'Alice In Chains',\n",
       " 'Red Hot Chili Peppers',\n",
       " 'Placebo',\n",
       " 'The Smashing Pumpkins',\n",
       " 'Metallica',\n",
       " 'Radiohead',\n",
       " 'The Beatles',\n",
       " 'Nirvana']"
      ]
     },
     "execution_count": 23,
     "metadata": {},
     "output_type": "execute_result"
    }
   ],
   "source": [
    "[titles_dict[i+1] for i in sim[10734].toarray().argsort()[0][-20:]]"
   ]
  },
  {
   "cell_type": "code",
   "execution_count": 26,
   "id": "1c7c7af4",
   "metadata": {},
   "outputs": [
    {
     "data": {
      "text/plain": [
       "['Сергей Лазарев',\n",
       " 'Gato Idiota',\n",
       " 'Umaturman',\n",
       " 'R.E.M.',\n",
       " 'Линда',\n",
       " 'Pereza',\n",
       " 'The Pigeon Detectives',\n",
       " 'Kings Of Convenience',\n",
       " 'Глюкоза',\n",
       " 'Phoenix',\n",
       " 'The Redwalls',\n",
       " 'Ранетки',\n",
       " 'Валерий Меладзе',\n",
       " 'Regina Spektor',\n",
       " 'Brainstorm',\n",
       " 'Hellogoodbye',\n",
       " 'Sertse',\n",
       " 'Gipsy Kings',\n",
       " 'Zемфира',\n",
       " 'Dido']"
      ]
     },
     "execution_count": 26,
     "metadata": {},
     "output_type": "execute_result"
    }
   ],
   "source": [
    "[titles_dict[i+1] for i in sim[17181].toarray().argsort()[0][-20:]]"
   ]
  },
  {
   "cell_type": "code",
   "execution_count": 27,
   "id": "3abb6bfd",
   "metadata": {},
   "outputs": [
    {
     "data": {
      "text/plain": [
       "['Red Hot Chili Peppers',\n",
       " 'Björk',\n",
       " 'Aoki Takamasa',\n",
       " 'The Dillinger Escape Plan',\n",
       " 'Deftones',\n",
       " 'B. Fleischmann',\n",
       " '2h Company',\n",
       " 'Самое Большое Простое Число',\n",
       " 'Amon Tobin',\n",
       " 'Devildriver',\n",
       " 'Autechre',\n",
       " 'Orbital',\n",
       " 'Cujo',\n",
       " 'Proem',\n",
       " 'Ochre',\n",
       " 'Massive Attack',\n",
       " 'The Cinematic Orchestra',\n",
       " 'Red Snapper',\n",
       " 'Apparat',\n",
       " 'Aphex Twin']"
      ]
     },
     "execution_count": 27,
     "metadata": {},
     "output_type": "execute_result"
    }
   ],
   "source": [
    "[titles_dict[i+1] for i in sim[17121].toarray().argsort()[0][-20:]]"
   ]
  },
  {
   "cell_type": "code",
   "execution_count": 28,
   "id": "91e3731a",
   "metadata": {},
   "outputs": [
    {
     "data": {
      "text/plain": [
       "['Amerie',\n",
       " 'The Pussycat Dolls',\n",
       " 'Ciara',\n",
       " 'Beyonce',\n",
       " 'Electrik Red',\n",
       " 'Mariah Carey',\n",
       " 'Kylie Minogue',\n",
       " 'Lady Gaga',\n",
       " 'Madonna',\n",
       " 'Дантес&Олейник',\n",
       " 'Janet Jackson',\n",
       " 'Павел Зибров',\n",
       " 'Потап И Настя',\n",
       " 'Real O',\n",
       " 'Наталья Могилевская',\n",
       " 'Макс Барских',\n",
       " 'Алина Гросу',\n",
       " 'Пара Нормальных',\n",
       " 'Маша Фокина',\n",
       " 'Светлана Лобода']"
      ]
     },
     "execution_count": 28,
     "metadata": {},
     "output_type": "execute_result"
    }
   ],
   "source": [
    "[titles_dict[i+1] for i in sim[17122].toarray().argsort()[0][-20:]]"
   ]
  },
  {
   "cell_type": "code",
   "execution_count": 29,
   "id": "fc9f64e9",
   "metadata": {},
   "outputs": [
    {
     "data": {
      "text/plain": [
       "['Blood Stain Child',\n",
       " 'Blink-182',\n",
       " 'Фантастика',\n",
       " 'Anti-Flag',\n",
       " 'The Unseen',\n",
       " 'Стингер',\n",
       " '40 Градусов',\n",
       " 'Пурген',\n",
       " 'Газон',\n",
       " 'Блондинка Ксю',\n",
       " 'Torment Day',\n",
       " 'Enter Shikari',\n",
       " 'Адаптация Пчёл',\n",
       " 'Свиньи В Космосе',\n",
       " 'Кожаный Олень',\n",
       " 'Otep',\n",
       " 'Skindred',\n",
       " '40 Укв',\n",
       " 'Rammstein',\n",
       " 'Rise Against']"
      ]
     },
     "execution_count": 29,
     "metadata": {},
     "output_type": "execute_result"
    }
   ],
   "source": [
    "[titles_dict[i+1] for i in sim[16929].toarray().argsort()[0][-20:]]"
   ]
  },
  {
   "cell_type": "code",
   "execution_count": 30,
   "id": "2e07f35f",
   "metadata": {},
   "outputs": [],
   "source": [
    "interactions_sparse_transposed = interactions_sparse.transpose(copy = True)\n",
    "Piu = normalize(interactions_sparse_transposed, norm = 'l2', axis = 1)\n",
    "fit = Pui*Piu*Pui"
   ]
  },
  {
   "cell_type": "code",
   "execution_count": 31,
   "id": "fa38afcb",
   "metadata": {},
   "outputs": [
    {
     "data": {
      "text/plain": [
       "<1892x17493 sparse matrix of type '<class 'numpy.float64'>'\n",
       "\twith 18946119 stored elements in Compressed Sparse Row format>"
      ]
     },
     "execution_count": 31,
     "metadata": {},
     "output_type": "execute_result"
    }
   ],
   "source": [
    "fit"
   ]
  },
  {
   "cell_type": "code",
   "execution_count": 37,
   "id": "39ca33d1",
   "metadata": {},
   "outputs": [],
   "source": [
    "init_set=set([titles_dict[i+1] for i in np.nonzero(interactions_sparse[520])[1].tolist()])"
   ]
  },
  {
   "cell_type": "code",
   "execution_count": 36,
   "id": "7def7f3b",
   "metadata": {},
   "outputs": [],
   "source": [
    "pred_set=set([titles_dict[i+1] for i in fit[520].toarray().argsort()[0][-70:].tolist()])"
   ]
  },
  {
   "cell_type": "code",
   "execution_count": 38,
   "id": "6d325671",
   "metadata": {},
   "outputs": [
    {
     "data": {
      "text/plain": [
       "{'30 Seconds To Mars',\n",
       " 'Britney Spears',\n",
       " 'Christina Aguilera',\n",
       " 'Coldplay',\n",
       " 'David Bowie',\n",
       " 'Duran Duran',\n",
       " 'Evanescence',\n",
       " 'Flyleaf',\n",
       " 'Him',\n",
       " 'Iron Maiden',\n",
       " 'Joy Division',\n",
       " 'Kings Of Leon',\n",
       " 'Lady Gaga',\n",
       " 'Linkin Park',\n",
       " 'Madonna',\n",
       " 'Marilyn Manson',\n",
       " 'Metallica',\n",
       " 'Muse',\n",
       " 'Nightwish',\n",
       " 'Nine Inch Nails',\n",
       " 'Oasis',\n",
       " 'Opeth',\n",
       " 'Pink Floyd',\n",
       " 'Porcupine Tree',\n",
       " 'Radiohead',\n",
       " 'Rammstein',\n",
       " 'System Of A Down',\n",
       " 'The Beatles',\n",
       " 'The Killers',\n",
       " 'The Smashing Pumpkins',\n",
       " 'The Smiths',\n",
       " 'U2'}"
      ]
     },
     "execution_count": 38,
     "metadata": {},
     "output_type": "execute_result"
    }
   ],
   "source": [
    "pred_set-init_set"
   ]
  },
  {
   "cell_type": "code",
   "execution_count": 39,
   "id": "e2f91e87",
   "metadata": {},
   "outputs": [
    {
     "data": {
      "text/plain": [
       "32"
      ]
     },
     "execution_count": 39,
     "metadata": {},
     "output_type": "execute_result"
    }
   ],
   "source": [
    "len(pred_set-init_set)"
   ]
  },
  {
   "cell_type": "code",
   "execution_count": null,
   "id": "87955aa3",
   "metadata": {},
   "outputs": [],
   "source": []
  }
 ],
 "metadata": {
  "kernelspec": {
   "display_name": "Python 3 (ipykernel)",
   "language": "python",
   "name": "python3"
  },
  "language_info": {
   "codemirror_mode": {
    "name": "ipython",
    "version": 3
   },
   "file_extension": ".py",
   "mimetype": "text/x-python",
   "name": "python",
   "nbconvert_exporter": "python",
   "pygments_lexer": "ipython3",
   "version": "3.10.10"
  }
 },
 "nbformat": 4,
 "nbformat_minor": 5
}
